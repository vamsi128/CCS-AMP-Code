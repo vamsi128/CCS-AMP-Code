{
 "cells": [
  {
   "cell_type": "code",
   "execution_count": null,
   "metadata": {},
   "outputs": [],
   "source": [
    "import math\n",
    "import numpy as np\n",
    "import scipy.special\n",
    "import matplotlib.pyplot as plt\n",
    "\n",
    "# np.random.seed(10)\n",
    "k = 6\n",
    "bits = 10\n",
    "m_length = 2**bits\n",
    "\n",
    "def lambdav_fcn(r_vector,tau):\n",
    "    vector_shape = r_vector.shape\n",
    "    tau2_estimate = (np.inner(r_observation,r_observation))/(m_length-1)\n",
    "#     tau2_estimate = tau**2\n",
    "    print('tau: ' + str(tau))\n",
    "    print('tau estimate: ' + str(np.sqrt(tau2_estimate)))\n",
    "    likelihood_vector_numerator = np.exp(-0.5 * (np.square(r_vector - np.ones(vector_shape)))/(tau2_estimate))\n",
    "    likelihood_vector_denominator = np.exp(-0.5 * np.square(r_vector)/(tau**2))\n",
    "    denominator_not = (m_length - k) * np.exp(np.ones(vector_shape)/tau2_estimate) - (0.5 * np.square(r_vector)/(tau2_estimate))                                               \n",
    "    denominator = (k * likelihood_vector_numerator) + (denominator_not)\n",
    "    estimate_vector = likelihood_vector_numerator / denominator\n",
    "    return (estimate_vector/np.sum(estimate_vector))\n",
    "\n",
    "\n",
    "s_signal = np.concatenate((np.ones(k), np.zeros(m_length-k)), axis=0)\n",
    "# print(s_signal[0:10])\n",
    "\n",
    "mu, sigma = 0, 0.05\n",
    "r_observation = s_signal + np.random.normal(mu, sigma, m_length)\n",
    "# print(r_observation[0:10])\n",
    "\n",
    "# likelihood_vector = likelihood_fcn(r_observation,sigma)\n",
    "# likelihood_norm1 = np.sum(likelihood_vector)\n",
    "# likelihood_max = np.max(likelihood_vector)\n",
    "# print(likelihood_vector[np.argsort(likelihood_vector)[-k:]])\n",
    "\n",
    "estimates = lambdav_fcn(r_observation,sigma)\n",
    "print('Sum: ' + str(np.sum(estimates)))\n",
    "print(estimates[0:10])\n",
    "print(np.flip(np.sort(estimates)[-10:]))\n",
    "\n",
    "plt.plot(estimates[0:20])\n",
    "plt.show()\n"
   ]
  }
 ],
 "metadata": {
  "kernelspec": {
   "display_name": "Python 3",
   "language": "python",
   "name": "python3"
  },
  "language_info": {
   "codemirror_mode": {
    "name": "ipython",
    "version": 3
   },
   "file_extension": ".py",
   "mimetype": "text/x-python",
   "name": "python",
   "nbconvert_exporter": "python",
   "pygments_lexer": "ipython3",
   "version": "3.7.6"
  }
 },
 "nbformat": 4,
 "nbformat_minor": 2
}
