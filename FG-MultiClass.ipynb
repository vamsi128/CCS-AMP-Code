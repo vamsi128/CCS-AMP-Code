{
 "cells": [
  {
   "cell_type": "markdown",
   "metadata": {},
   "source": [
    "# Multi-Class Coded Compressed Sensing\n",
    "\n",
    "This notebook implements multi-class coded compressed sensing. It leverages the CCS-AMP encoder/decoder to implement a multi-class unsourced random access scheme based on Hadamard sensing matrices."
   ]
  },
  {
   "cell_type": "code",
   "execution_count": null,
   "metadata": {},
   "outputs": [],
   "source": [
    "import numpy as np\n",
    "import FactorGraphGeneration as FGG\n",
    "\n",
    "OuterCode1 = FGG.Triadic8(15)\n",
    "OuterCode2 = FGG.Disco3(15)"
   ]
  },
  {
   "cell_type": "markdown",
   "metadata": {},
   "source": [
    "# Fast Hadamard Transforms"
   ]
  },
  {
   "cell_type": "code",
   "execution_count": null,
   "metadata": {},
   "outputs": [],
   "source": [
    "from pyfht import block_sub_fht"
   ]
  },
  {
   "cell_type": "markdown",
   "metadata": {},
   "source": [
    "# SPARC Codebook\n",
    "\n",
    "We use the `block_sub_fht` which computes the equivalent of $A.\\beta$ by using $L$ separate $M\\times M$ Hadamard matrices. However we want each entry to be divided by $\\sqrt{n}$ to get the right variance, and we need to do a reshape on the output to get column vectors, so we'll wrap those operations here.\n",
    "\n",
    "Returns two functions `Ab` and `Az` which compute $A\\cdot B$ and $z^T\\cdot A$ respectively."
   ]
  },
  {
   "cell_type": "code",
   "execution_count": null,
   "metadata": {},
   "outputs": [],
   "source": [
    "def sparc_codebook(L, M, n,P):\n",
    "    Ax, Ay, _ = block_sub_fht(n, M, L, seed=None, ordering=None) # seed must be explicit\n",
    "    def Ab(b):\n",
    "        return Ax(b).reshape(-1, 1) / np.sqrt(n)\n",
    "    def Az(z):\n",
    "        return Ay(z).reshape(-1, 1) / np.sqrt(n) \n",
    "    return Ab, Az"
   ]
  },
  {
   "cell_type": "markdown",
   "metadata": {},
   "source": [
    "# Vector Approximation\n",
    "\n",
    "This function outputs the closest approximation to the input vector given that its L1 norm is 1 and no entry is greater than 1/K"
   ]
  },
  {
   "cell_type": "code",
   "execution_count": null,
   "metadata": {},
   "outputs": [],
   "source": [
    "def approximateVector(x, K):    \n",
    "\n",
    "    # normalize initial value of x\n",
    "    xOrig = x / np.linalg.norm(x, ord=1)\n",
    "    \n",
    "    # create vector to hold best approximation of x\n",
    "    xHt = xOrig.copy()\n",
    "    u = np.zeros(len(xHt))\n",
    "    \n",
    "    # run approximation algorithm\n",
    "    while np.amax(xHt) > (1/K):\n",
    "        minIndices = np.argmin([(1/K)*np.ones(xHt.shape), xHt], axis=0)\n",
    "        xHt = np.min([(1/K)*np.ones(xHt.shape), xHt], axis=0)\n",
    "        \n",
    "        deficit = 1 - np.linalg.norm(xHt, ord=1)\n",
    "        \n",
    "        if deficit > 0:\n",
    "            mIxHtNorm = np.linalg.norm((xHt*minIndices), ord=1)\n",
    "            scaleFactor = (deficit + mIxHtNorm) / mIxHtNorm\n",
    "            xHt = scaleFactor*(minIndices*xHt) + (1/K)*(np.ones(xHt.shape) - minIndices)\n",
    "\n",
    "    # return admissible approximation of x\n",
    "    return xHt"
   ]
  },
  {
   "cell_type": "markdown",
   "metadata": {},
   "source": [
    "# Posterior Mean Estimator (PME)\n",
    "\n",
    "This function implements the posterior mean estimator for situations where prior probabilities are uninformative."
   ]
  },
  {
   "cell_type": "code",
   "execution_count": null,
   "metadata": {},
   "outputs": [],
   "source": [
    "def pme0(q, r, d, tau):\n",
    "    \"\"\"Posterior mean estimator (PME)\n",
    "    \n",
    "    Args:\n",
    "        q (float): Prior probability\n",
    "        r (float): Effective observation\n",
    "        d (float): Signal amplitude\n",
    "        tau (float): Standard deviation of noise\n",
    "    Returns:\n",
    "        sHat (float): Probability s is one\n",
    "    \n",
    "    \"\"\"\n",
    "    sHat = ( q*np.exp( -(r-d)**2 / (2*(tau**2)) ) \\\n",
    "            / ( q*np.exp( -(r-d)**2 / (2*(tau**2))) + (1-q)*np.exp( -r**2 / (2*(tau**2))) ) ).astype(float)\n",
    "    return sHat"
   ]
  },
  {
   "cell_type": "markdown",
   "metadata": {},
   "source": [
    "# Dynamic Denoiser\n",
    "\n",
    "This function performs believe propagation (BP) on the factor graph of the outer code."
   ]
  },
  {
   "cell_type": "code",
   "execution_count": null,
   "metadata": {},
   "outputs": [],
   "source": [
    "def dynamicDenoiser(r,OuterCode,K,tau,d,numBPiter):\n",
    "    \"\"\"\n",
    "    Args:\n",
    "        r (float): Effective observation\n",
    "        d (float): Signal amplitude\n",
    "        tau (float): Standard deviation of noise\n",
    "    \"\"\"\n",
    "    M = OuterCode.sparseseclength\n",
    "    L = OuterCode.varcount\n",
    "\n",
    "    p0 = 1-(1-1/M)**K\n",
    "    p1 = p0*np.ones(r.shape, dtype=float)\n",
    "    mu = np.zeros(r.shape, dtype=float)\n",
    "\n",
    "    # Compute local estimate (lambda) based on effective observation using PME.\n",
    "    localEstimates = pme0(p0, r, d, tau)\n",
    "    \n",
    "    # Reshape local estimate (lambda) into an LxM matrix\n",
    "    Beta = localEstimates.reshape(L,-1)\n",
    "    OuterCode.reset()\n",
    "    for varnodeid in OuterCode.varlist:\n",
    "        idx = varnodeid - 1\n",
    "        Beta[idx,:] = approximateVector(Beta[idx,:], K)\n",
    "        OuterCode.setobservation(varnodeid, Beta[idx,:])\n",
    "    \n",
    "    for iteration in range(numBPiter):\n",
    "        OuterCode.updatechecks()\n",
    "        OuterCode.updatevars()\n",
    "\n",
    "    for varnodeid in OuterCode.varlist:\n",
    "        idx = varnodeid - 1\n",
    "        # Beta[idx,:] = OuterCode.getestimate(varnodeid)\n",
    "        Beta[idx,:] = OuterCode.getextrinsicestimate(varnodeid)\n",
    "        mu[idx*M:(idx+1)*M] = approximateVector(Beta[idx,:], K).reshape(-1,1)\n",
    "\n",
    "    return mu"
   ]
  },
  {
   "cell_type": "markdown",
   "metadata": {},
   "source": [
    "## AMP\n",
    "This is the actual AMP algorithm. It's a mostly straightforward transcription from the relevant equations, but note we use `longdouble` types because the expentials are often too big to fit into a normal `double`."
   ]
  },
  {
   "cell_type": "code",
   "execution_count": null,
   "metadata": {},
   "outputs": [],
   "source": [
    "def amp_state_update(z, s, P, L, Ab, Az, K, numBPiter, OuterCode):\n",
    "\n",
    "    \"\"\"\n",
    "    Args:\n",
    "        s: State update through AMP composite iteration\n",
    "        z: Residual update through AMP composite iteration\n",
    "        tau (float): Standard deviation of noise\n",
    "        mu: Product of messages from adjoining factors\n",
    "    \"\"\"\n",
    "    n = z.size\n",
    "    d = np.sqrt(n*P/L)\n",
    "\n",
    "    # Compute tau online using the residual\n",
    "    tau = np.sqrt(np.sum(z**2)/n)\n",
    "\n",
    "    # Compute effective observation\n",
    "    r = (d*s + Az(z))\n",
    "\n",
    "    # Compute updated state\n",
    "    mu = dynamicDenoiser(r, OuterCode, K, tau, d, numBPiter)\n",
    "    s = pme0(mu, r, d, tau)\n",
    "        \n",
    "    return s"
   ]
  },
  {
   "cell_type": "code",
   "execution_count": null,
   "metadata": {},
   "outputs": [],
   "source": [
    "def amp_residual(y, z, s1, s2, d1, d2, Ab1, Ab2):\n",
    "    \"\"\"\n",
    "    Args:\n",
    "        s1: State update through AMP composite iteration\n",
    "        s2: State update through AMP composite iteration\n",
    "        y: Original observation\n",
    "        tau (float): Standard deviation of noise\n",
    "    \"\"\"\n",
    "    n = y.size\n",
    "    \n",
    "    # Compute tau online using the residual\n",
    "    tau = np.sqrt(np.sum(z**2)/n)\n",
    "\n",
    "    # Compute residual\n",
    "    Onsager1 = (d1**2)*(np.sum(s1) - np.sum(s1**2))\n",
    "    Onsager2 = (d2**2)*(np.sum(s2) - np.sum(s2**2))   \n",
    "    z_plus = y - d1*Ab1(s1) - d2*Ab2(s2)+ (z/(n*tau**2))*(Onsager1 + Onsager2)\n",
    "    \n",
    "    return z_plus"
   ]
  },
  {
   "cell_type": "markdown",
   "metadata": {},
   "source": [
    "# Simulation"
   ]
  },
  {
   "cell_type": "code",
   "execution_count": null,
   "metadata": {
    "scrolled": false
   },
   "outputs": [],
   "source": [
    "K1 = 25 # Number of active users in group 1\n",
    "K2 = 25 # Number of active users in group 2\n",
    "\n",
    "B1=120 # Payload size of every active user in group 1\n",
    "B2=165 # Payload size of every active user in group 2\n",
    "\n",
    "L1=OuterCode1.varcount # Number of sections/sub-blocks in group 1\n",
    "L2=OuterCode2.varcount # Number of sections/sub-blocks in group 2\n",
    "\n",
    "n=38400 # Total number of channel uses (real d.o.f)\n",
    "T=10 # Number of AMP iterations\n",
    "J1=OuterCode1.seclength  # Length of each coded sub-block\n",
    "J2=OuterCode2.seclength  # Length of each coded sub-block\n",
    "M1=OuterCode1.sparseseclength # Length of each section\n",
    "M2=OuterCode2.sparseseclength # Length of each section\n",
    "\n",
    "numBPiter = 1; # Number of BP iterations on outer code. 1 seems to be good enough & AMP theory including state evolution valid only for one BP iteration\n",
    "EbNodB = 3 # Energy per bit. With iterative extension, operating EbN0 falls to 2.05 dB for 25 users with 1 round SIC\n",
    "simCount = 2 # number of simulations\n",
    "\n",
    "# EbN0 in linear scale\n",
    "EbNo = 10**(EbNodB/10)\n",
    "P1 = 2*B1*EbNo/n\n",
    "P2 = 2*B2*EbNo/n\n",
    "σ_n = 1\n",
    "\n",
    "# We assume equal power allocation for all the sections. Code has to be modified a little to accomodate non-uniform power allocations\n",
    "Phat1 = n*P1/L1\n",
    "Phat2 = n*P2/L2\n",
    "d1 = np.sqrt(n*P1/L1)\n",
    "d2 = np.sqrt(n*P2/L2)\n",
    "\n",
    "msgDetected1=0\n",
    "msgDetected2=0\n",
    "\n",
    "for simIndex in range(simCount):\n",
    "    print('Simulation Number: ' + str(simIndex))\n",
    "    \n",
    "    # Generate active users message sequences\n",
    "    messages1 = np.random.randint(2, size=(K1, B1))\n",
    "    messages2 = np.random.randint(2, size=(K2, B2))\n",
    "\n",
    "    # Outer-encode the message sequences\n",
    "    codewords1 = OuterCode1.encodemessages(messages1)\n",
    "    for codeword1 in codewords1:\n",
    "        OuterCode1.testvalid(codeword1)\n",
    "    codewords2 = OuterCode2.encodemessages(messages2)\n",
    "    for codeword2 in codewords2:\n",
    "        OuterCode2.testvalid(codeword2)\n",
    "\n",
    "    # Convert indices to sparse representation\n",
    "    # sTrue: True state\n",
    "    sTrue1 = np.sum(codewords1, axis=0)\n",
    "    sTrue2 = np.sum(codewords2, axis=0)\n",
    "\n",
    "    # Generate the binned SPARC codebook\n",
    "    Ab1, Az1 = sparc_codebook(L1, M1, n, P1)\n",
    "    Ab2, Az2 = sparc_codebook(L2, M2, n, P2)\n",
    "    \n",
    "    # Generate our transmitted signal X\n",
    "    x = d1*Ab1(sTrue1) + d2*Ab2(sTrue2)\n",
    "    \n",
    "    # Generate random channel noise and thus also received signal y\n",
    "    noise = np.random.randn(n, 1) * σ_n\n",
    "    y = (x + noise)\n",
    "\n",
    "    z = y.copy()\n",
    "    s1 = np.zeros((L1*M1, 1))\n",
    "    s2 = np.zeros((L2*M2, 1))\n",
    "\n",
    "    for t in range(T):\n",
    "        s1 = amp_state_update(z, s1, P1, L1, Ab1, Az1, K1, numBPiter, OuterCode1)\n",
    "        s2 = amp_state_update(z, s2, P2, L2, Ab2, Az2, K2, numBPiter, OuterCode2)\n",
    "        z = amp_residual(y, z, s1, s2, d1, d2, Ab1, Ab2)\n",
    "\n",
    "    print('Graph Decode')\n",
    "    \n",
    "    # Decoding wiht Graph\n",
    "    originallist1 = codewords1.copy()\n",
    "    originallist2 = codewords2.copy()\n",
    "    recoveredcodewords1 = OuterCode1.decoder(s1, 2*K1)\n",
    "    recoveredcodewords2 = OuterCode2.decoder(s2, 2*K2)\n",
    "\n",
    "    # Calculation of per-user prob err\n",
    "    simMsgDetected1 = 0\n",
    "    simMsgDetected2 = 0\n",
    "    matches1 = FGG.numbermatches(originallist1, recoveredcodewords1)\n",
    "    matches2 = FGG.numbermatches(originallist2, recoveredcodewords2)\n",
    "    \n",
    "    print('Group 1: ' + str(matches1) + ' out of ' + str(K1))\n",
    "    print('Group 2: ' + str(matches2) + ' out of ' + str(K2))\n",
    "    msgDetected1 = msgDetected1 + matches1\n",
    "    msgDetected2 = msgDetected2 + matches2\n",
    "    \n",
    "errorRate1= (K1*simCount - msgDetected1)/(K1*simCount)\n",
    "errorRate2= (K2*simCount - msgDetected2)/(K2*simCount)\n",
    "\n",
    "print(\"Per user probability of error (Group 1) = \", errorRate1)\n",
    "print(\"Per user probability of error (Group 2) = \", errorRate2)\n"
   ]
  }
 ],
 "metadata": {
  "kernelspec": {
   "display_name": "Python 3",
   "language": "python",
   "name": "python3"
  },
  "language_info": {
   "codemirror_mode": {
    "name": "ipython",
    "version": 3
   },
   "file_extension": ".py",
   "mimetype": "text/x-python",
   "name": "python",
   "nbconvert_exporter": "python",
   "pygments_lexer": "ipython3",
   "version": "3.7.9"
  }
 },
 "nbformat": 4,
 "nbformat_minor": 2
}
