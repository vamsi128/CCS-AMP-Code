{
 "cells": [
  {
   "cell_type": "markdown",
   "metadata": {},
   "source": [
    "# Singler-User Implementation\n",
    "\n",
    "This notebook implements single-user CCS-AMP encoder/decoder without power control."
   ]
  },
  {
   "cell_type": "code",
   "execution_count": 1,
   "metadata": {},
   "outputs": [
    {
     "name": "stdout",
     "output_type": "stream",
     "text": [
      "Size of parity check matrix: (128, 768)\n",
      "Rank of parity check matrix: 128\n",
      "[[1 0 0 ... 0 1 0]\n",
      " [0 1 0 ... 0 0 1]\n",
      " [0 0 1 ... 0 1 0]\n",
      " ...\n",
      " [0 0 0 ... 1 1 1]\n",
      " [0 0 0 ... 0 1 0]\n",
      " [0 0 0 ... 1 0 1]]\n",
      "Number of parity column indices: 128\n",
      "Number of parity nodes: 128\n",
      "[[1 0 0 ... 0 0 0]\n",
      " [0 1 0 ... 0 0 0]\n",
      " [0 0 1 ... 0 0 0]\n",
      " ...\n",
      " [0 0 0 ... 1 0 0]\n",
      " [0 0 0 ... 0 1 0]\n",
      " [0 0 0 ... 0 0 1]]\n",
      "Number of information nodes: 640\n",
      "[[1 0 0 ... 0 1 0]\n",
      " [0 1 1 ... 0 0 1]\n",
      " [1 0 0 ... 0 1 0]\n",
      " ...\n",
      " [0 0 1 ... 1 1 1]\n",
      " [0 0 0 ... 0 1 0]\n",
      " [0 0 0 ... 1 0 1]]\n"
     ]
    }
   ],
   "source": [
    "import numpy as np\n",
    "import FactorGraphGeneration as FGG\n",
    "\n",
    "# OuterCode1 = FGG.Triadic8(16)\n",
    "# OuterCode1 = FGG.CCSDS_ldpc_n32_k16(8)\n",
    "# OuterCode1 = FGG.MacKay_96_33_964(8)\n",
    "# OuterCode1 = FGG.WRAN_N384_K192(8)\n",
    "OuterCode1 = FGG.WIMAX_768_640(9)"
   ]
  },
  {
   "cell_type": "markdown",
   "metadata": {},
   "source": [
    "## Fast Hadamard Transforms"
   ]
  },
  {
   "cell_type": "code",
   "execution_count": 2,
   "metadata": {},
   "outputs": [],
   "source": [
    "from pyfht import block_sub_fht"
   ]
  },
  {
   "cell_type": "markdown",
   "metadata": {},
   "source": [
    "## SPARC Codebook\n",
    "\n",
    "We use the `block_sub_fht` which computes the equivalent of $A.\\beta$ by using $L$ separate $M\\times M$ Hadamard matrices. However we want each entry to be divided by $\\sqrt{n}$ to get the right variance, and we need to do a reshape on the output to get column vectors, so we'll wrap those operations here.\n",
    "\n",
    "Returns two functions `Ab` and `Az` which compute $A\\cdot B$ and $z^T\\cdot A$ respectively."
   ]
  },
  {
   "cell_type": "code",
   "execution_count": 3,
   "metadata": {},
   "outputs": [],
   "source": [
    "def sparc_codebook(L, M, n,P):\n",
    "    Ax, Ay, _ = block_sub_fht(n, M, L, seed=None, ordering=None) # seed must be explicit\n",
    "    def Ab(b):\n",
    "        return Ax(b).reshape(-1, 1)/ np.sqrt(n)\n",
    "    def Az(z):\n",
    "        return Ay(z).reshape(-1, 1)/ np.sqrt(n) \n",
    "    return Ab, Az"
   ]
  },
  {
   "cell_type": "markdown",
   "metadata": {},
   "source": [
    "# Vector Approximation\n",
    "\n",
    "This function outputs the closest approximation to the input vector given that its L1 norm is 1 and no entry is greater than 1/K"
   ]
  },
  {
   "cell_type": "code",
   "execution_count": 4,
   "metadata": {},
   "outputs": [],
   "source": [
    "def approximateVector(x, K):    \n",
    "\n",
    "    # normalize initial value of x\n",
    "    xOrig = x / np.linalg.norm(x, ord=1)\n",
    "    \n",
    "    # create vector to hold best approximation of x\n",
    "    xHt = xOrig.copy()\n",
    "    u = np.zeros(len(xHt))\n",
    "    \n",
    "    # run approximation algorithm\n",
    "    while np.amax(xHt) > (1/K):\n",
    "        minIndices = np.argmin([(1/K)*np.ones(xHt.shape), xHt], axis=0)\n",
    "        xHt = np.min([(1/K)*np.ones(xHt.shape), xHt], axis=0)\n",
    "        \n",
    "        deficit = 1 - np.linalg.norm(xHt, ord=1)\n",
    "        \n",
    "        if deficit > 0:\n",
    "            mIxHtNorm = np.linalg.norm((xHt*minIndices), ord=1)\n",
    "            scaleFactor = (deficit + mIxHtNorm) / mIxHtNorm\n",
    "            xHt = scaleFactor*(minIndices*xHt) + (1/K)*(np.ones(xHt.shape) - minIndices)\n",
    "\n",
    "    # return admissible approximation of x\n",
    "    return xHt"
   ]
  },
  {
   "cell_type": "markdown",
   "metadata": {},
   "source": [
    "## Posterior Mean Estimator (PME)\n",
    "\n",
    "This function implements the posterior mean estimator for situations where prior probabilities are uninformative."
   ]
  },
  {
   "cell_type": "code",
   "execution_count": 5,
   "metadata": {},
   "outputs": [],
   "source": [
    "def pme0(q, r, d, tau):\n",
    "    \"\"\"Posterior mean estimator (PME)\n",
    "    \n",
    "    Args:\n",
    "        q (float): Prior probability\n",
    "        r (float): Effective observation\n",
    "        d (float): Signal amplitude\n",
    "        tau (float): Standard deviation of noise\n",
    "    Returns:\n",
    "        sHat (float): Probability s is one\n",
    "    \n",
    "    \"\"\"\n",
    "    sHat = ( q*np.exp( -(r-d)**2 / (2*(tau**2)) ) \\\n",
    "            / ( q*np.exp( -(r-d)**2 / (2*(tau**2))) + (1-q)*np.exp( -r**2 / (2*(tau**2))) ) ).astype(float)\n",
    "    return sHat"
   ]
  },
  {
   "cell_type": "code",
   "execution_count": 6,
   "metadata": {},
   "outputs": [],
   "source": [
    "def pme1(q, r, d, tau):\n",
    "    \"\"\"Posterior mean estimator (PME)\n",
    "    \n",
    "    Args:\n",
    "        q (float): Prior probability\n",
    "        r (float): Effective observation\n",
    "        Pl (float): Signal amplitudes\n",
    "        tau (float): Standard deviation of noise\n",
    "    Returns:\n",
    "        sHat (float): Probability s is one\n",
    "    \n",
    "    \"\"\"\n",
    "    exps = q * np.exp(r * d / tau**2)\n",
    "    sums = np.sum(exps,axis=1)\n",
    "    sHat = np.zeros(r.shape)\n",
    "    for idx in range(len(sums)):\n",
    "        sHat[idx,:] = (d * exps[idx, :] / sums[idx])\n",
    "    \n",
    "    return np.reshape(sHat, (-1, 1))"
   ]
  },
  {
   "cell_type": "markdown",
   "metadata": {},
   "source": [
    "# Dynamic Denoiser\n",
    "\n",
    "This function performs believe propagation (BP) on the factor graph of the outer code."
   ]
  },
  {
   "cell_type": "code",
   "execution_count": 7,
   "metadata": {},
   "outputs": [],
   "source": [
    "def dynamicDenoiser(r,OuterCode,K,tau,d,numBPiter):\n",
    "    \"\"\"\n",
    "    Args:\n",
    "        r (float): Effective observation\n",
    "        d (float): Signal amplitude\n",
    "        tau (float): Standard deviation of noise\n",
    "    \"\"\"\n",
    "    M = OuterCode.sparseseclength\n",
    "    L = OuterCode.varcount\n",
    "\n",
    "    p0 = 1-(1-1/M)**K\n",
    "    p1 = p0*np.ones(r.shape, dtype=float)\n",
    "    mu = np.zeros(r.shape, dtype=float)\n",
    "\n",
    "    # Compute local estimate (lambda) based on effective observation using PME.\n",
    "    localEstimates = pme0(p0, r, d, tau)\n",
    "    \n",
    "    # Reshape local estimate (lambda) into an LxM matrix\n",
    "    Beta = localEstimates.reshape(L,-1)\n",
    "    OuterCode.reset()\n",
    "    for varnodeid in OuterCode.varlist:\n",
    "        idx = varnodeid - 1\n",
    "        Beta[idx,:] = approximateVector(Beta[idx,:], K)\n",
    "        OuterCode.setobservation(varnodeid, Beta[idx,:])\n",
    "    \n",
    "    for iteration in range(numBPiter):\n",
    "        OuterCode.updatechecks()\n",
    "        OuterCode.updatevars()\n",
    "\n",
    "    for varnodeid in OuterCode.varlist:\n",
    "        idx = varnodeid - 1\n",
    "        # Beta[idx,:] = OuterCode.getestimate(varnodeid)\n",
    "        Beta[idx,:] = OuterCode.getextrinsicestimate(varnodeid)\n",
    "        mu[idx*M:(idx+1)*M] = approximateVector(Beta[idx,:], K).reshape(-1,1)\n",
    "\n",
    "    return mu"
   ]
  },
  {
   "cell_type": "markdown",
   "metadata": {},
   "source": [
    "## AMP\n",
    "This is the actual AMP algorithm. It's a mostly straightforward transcription from the relevant equations, but note we use `longdouble` types because the expentials are often too big to fit into a normal `double`."
   ]
  },
  {
   "cell_type": "code",
   "execution_count": 8,
   "metadata": {},
   "outputs": [],
   "source": [
    "def amp_state_update(z, s, d, Ab, Az, K, numBPiter, OuterCode):\n",
    "\n",
    "    \"\"\"\n",
    "    Args:\n",
    "        s: State update through AMP composite iteration\n",
    "        z: Residual update through AMP composite iteration\n",
    "        tau (float): Standard deviation of noise\n",
    "        mu: Product of messages from adjoining factors\n",
    "    \"\"\"\n",
    "    n = z.size\n",
    "\n",
    "    # Compute tau online using the residual\n",
    "    tau = np.sqrt(np.sum(z**2)/n)\n",
    "\n",
    "    # Compute effective observation\n",
    "    r = (d*s + Az(z))\n",
    "    # Compute updated state\n",
    "    mu = dynamicDenoiser(r, OuterCode, K, tau, d, numBPiter)\n",
    "#     s = pme0(mu, r, d, tau)\n",
    "    s = pme1(np.reshape(mu, (L,-1)), np.reshape(r, (L, -1)), d, tau)\n",
    "        \n",
    "    return s"
   ]
  },
  {
   "cell_type": "code",
   "execution_count": 9,
   "metadata": {},
   "outputs": [],
   "source": [
    "def amp_residual(y, z, s, d, Ab):\n",
    "    \"\"\"\n",
    "    Args:\n",
    "        s1: State update through AMP composite iteration\n",
    "        s2: State update through AMP composite iteration\n",
    "        y: Original observation\n",
    "        tau (float): Standard deviation of noise\n",
    "    \"\"\"\n",
    "    n = y.size\n",
    "    \n",
    "    # Compute tau online using the residual\n",
    "    tau = np.sqrt(np.sum(z**2)/n)\n",
    "\n",
    "    # Compute residual\n",
    "    Onsager = (d**2)*(np.sum(s) - np.sum(s**2))\n",
    "    z_plus = y - d*Ab(s) + (z/(n*tau**2))*Onsager\n",
    "    \n",
    "    return z_plus"
   ]
  },
  {
   "cell_type": "markdown",
   "metadata": {},
   "source": [
    "# Simulation"
   ]
  },
  {
   "cell_type": "code",
   "execution_count": null,
   "metadata": {
    "scrolled": false
   },
   "outputs": [
    {
     "name": "stdout",
     "output_type": "stream",
     "text": [
      "Simulation Number: 0\n",
      "Graph Decode\n",
      "(1, 393216)\n",
      "Root section ID: 166\n",
      "Root section ID: 175\n",
      "Root section ID: 174\n",
      "Root section ID: 169\n",
      "Root section ID: 170\n",
      "Root section ID: 171\n",
      "Root section ID: 172\n",
      "Root section ID: 124\n",
      "Root section ID: 173\n",
      "Root section ID: 511\n"
     ]
    }
   ],
   "source": [
    "K = 1 # Number of active users\n",
    "\n",
    "# OuterCode1 = FGG.Graph64(8)\n",
    "# n = 32768 # Total number of channel uses (real d.o.f)\n",
    "\n",
    "# OuterCode1 = FGG.MacKay_96_33_964(8)\n",
    "# n = 38400 # Total number of channel uses (real d.o.f)\n",
    "\n",
    "# OuterCode1 = FGG.WRAN_N384_K192(8)\n",
    "# n = 98304 # Total number of channel uses (real d.o.f)\n",
    "\n",
    "# OuterCode1 = FGG.WIMAX_768_640(9)\n",
    "n = 7200 # Total number of channel uses (real d.o.f)\n",
    "\n",
    "\n",
    "B = OuterCode1.infocount * OuterCode1.seclength # Payload size of each active user\n",
    "L = OuterCode1.varcount # Number of sections/sub-blocks\n",
    "T = 40 # Number of AMP iterations\n",
    "J = OuterCode1.seclength # Length of each coded sub-block\n",
    "M = OuterCode1.sparseseclength # Length of each section\n",
    "\n",
    "\n",
    "numBPiter = 1; # Number of BP iterations on outer code. 1 seems to be good enough & AMP theory including state evolution valid only for one BP iteration\n",
    "EbNodB = 10.0 # Energy per bit. With iterative extension, operating EbN0 falls to 2.05 dB for 25 users with 1 round SIC\n",
    "simCount = 1 # number of simulations\n",
    "\n",
    "# EbN0 in linear scale\n",
    "EbNo = 10**(EbNodB/10)\n",
    "P = 2*B*EbNo/n\n",
    "σ_n = 1\n",
    "\n",
    "# We assume equal power allocation for all the sections. Code has to be modified a little to accomodate non-uniform power allocations\n",
    "Phat = n*P/L\n",
    "d = np.sqrt(n*P/L)\n",
    "\n",
    "msgDetected=0\n",
    "\n",
    "for simIndex in range(simCount):\n",
    "    print('Simulation Number: ' + str(simIndex))\n",
    "    \n",
    "    # Generate active users message sequences\n",
    "    messages = np.random.randint(2, size=(K, B))\n",
    "\n",
    "    # Outer-encode the message sequences\n",
    "    codewords = OuterCode1.encodemessages(messages)\n",
    "    for codeword in codewords:\n",
    "        OuterCode1.testvalid(codeword)\n",
    "    \n",
    "    # Convert indices to sparse representation\n",
    "    # sTrue: True state\n",
    "    sTrue = np.sum(codewords, axis=0) #np.sum(codewords, axis=0)\n",
    "\n",
    "    # Generate the binned SPARC codebook\n",
    "    Ab, Az = sparc_codebook(L, M, n, P)\n",
    "    \n",
    "    # Generate our transmitted signal X\n",
    "    x = np.sqrt(Phat)*Ab(sTrue)\n",
    "    \n",
    "    # Generate random channel noise and thus also received signal y\n",
    "    noise = np.random.randn(n, 1) * σ_n\n",
    "    y = (x + noise)\n",
    "\n",
    "    z = y.copy()\n",
    "    s = np.zeros((L*M, 1)) # No interference in dexing code below\n",
    "\n",
    "    for t in range(T):\n",
    "        s = amp_state_update(z, s, d, Ab, Az, K, numBPiter, OuterCode1)\n",
    "        z = amp_residual(y, z, s, d, Ab)\n",
    "\n",
    "    s = sTrue\n",
    "    \n",
    "    print('Graph Decode')\n",
    "    print(codewords.shape)\n",
    "\n",
    "    # Decoding with Graph\n",
    "    originallist = codewords.copy()\n",
    "    recoveredcodewords = OuterCode1.decoder(codewords, 10)\n",
    "\n",
    "    # Calculation of per-user prob err\n",
    "    simMsgDetected = 0\n",
    "    matches = FGG.numbermatches(originallist, recoveredcodewords)\n",
    "    \n",
    "    print('Outcome: ' + str(matches) + ' out of ' + str(K))\n",
    "    msgDetected = msgDetected + matches\n",
    "    \n",
    "errorRate= (K*simCount - msgDetected)/(K*simCount)\n",
    "print(\"Per user probability of error = \", errorRate)\n"
   ]
  },
  {
   "cell_type": "code",
   "execution_count": null,
   "metadata": {},
   "outputs": [],
   "source": []
  }
 ],
 "metadata": {
  "kernelspec": {
   "display_name": "Python 3",
   "language": "python",
   "name": "python3"
  },
  "language_info": {
   "codemirror_mode": {
    "name": "ipython",
    "version": 3
   },
   "file_extension": ".py",
   "mimetype": "text/x-python",
   "name": "python",
   "nbconvert_exporter": "python",
   "pygments_lexer": "ipython3",
   "version": "3.7.9"
  }
 },
 "nbformat": 4,
 "nbformat_minor": 2
}
