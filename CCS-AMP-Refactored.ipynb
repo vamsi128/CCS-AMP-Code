{
 "cells": [
  {
   "cell_type": "code",
   "execution_count": null,
   "metadata": {},
   "outputs": [],
   "source": [
    "import ccsfg\n",
    "import FactorGraphGeneration as FG\n",
    "import ccsinnercode as ccsic"
   ]
  },
  {
   "cell_type": "markdown",
   "metadata": {},
   "source": [
    "# Set up Graph"
   ]
  },
  {
   "cell_type": "code",
   "execution_count": null,
   "metadata": {},
   "outputs": [],
   "source": [
    "# Graph Parameters\n",
    "L = 16                  # Number of sections/sub-blocks\n",
    "vl = 16                 # Length of each coded sub-block\n",
    "ml = 2**vl              # Length of each section of m\n",
    "\n",
    "# Instantiate CCS Graph\n",
    "class CCSGraph(ccsfg.SystematicEncoding):\n",
    "    def __init__(self, seclength=ml):\n",
    "        self.__Check2VarEdges = []\n",
    "        self.__Check2VarEdges.append([1, 2, 3])\n",
    "        self.__Check2VarEdges.append([4, 5, 6])\n",
    "        self.__Check2VarEdges.append([7, 8, 9])\n",
    "        self.__Check2VarEdges.append([10, 11, 12])\n",
    "        self.__Check2VarEdges.append([1, 7, 13])\n",
    "        self.__Check2VarEdges.append([2, 10, 14])\n",
    "        self.__Check2VarEdges.append([4, 8, 15])\n",
    "        self.__Check2VarEdges.append([5, 11, 16])\n",
    "        super().__init__(self.__Check2VarEdges, [1, 2, 4, 5, 7, 8, 10, 11], seclength)\n",
    "        self.__DepthFromRoot = 32\n",
    "\n",
    "    def getmaxdepth(self):\n",
    "        return self.__DepthFromRoot"
   ]
  },
  {
   "cell_type": "markdown",
   "metadata": {},
   "source": [
    "# Simulation Parameters"
   ]
  },
  {
   "cell_type": "code",
   "execution_count": null,
   "metadata": {},
   "outputs": [],
   "source": [
    "# Set up multiple access scenario\n",
    "# Notation has been chosen to match https://arxiv.org/pdf/2010.04364.pdf\n",
    "Ka = 25                 # Number of active users\n",
    "w = 128                 # Payload size of each active user (per user message length)\n",
    "N = 38400               # Total number of channel uses (real d.o.f)\n",
    "\n",
    "# Simulation Parameters\n",
    "numAmpIter = 6          # Number of AMP iterations\n",
    "listSize = 4 * Ka       # List size retained for each section after AMP converges\n",
    "BPonOuterGraph = 1      # Indicates whether to perform BP on outer code.  If 0, AMP uses Giuseppe's uninformative prior\n",
    "EbNodB = 2.4            # Energy per bit in decibels\n",
    "maxSims = 10            # Number of Simulations to Run\n",
    "\n",
    "# Prepare Simulation\n",
    "EbNo = 10**(EbNodB/10)  # Eb/No in linear scale\n",
    "P = 2*w*EbNo/N          # transmit power\n",
    "std = 1                 # Noise standard deviation\n",
    "Phat = N*P/L            # Power estimate\n",
    "errorRate = 0.0         # track error rate across simulations"
   ]
  },
  {
   "cell_type": "markdown",
   "metadata": {},
   "source": [
    "# Run Simulation"
   ]
  },
  {
   "cell_type": "code",
   "execution_count": null,
   "metadata": {},
   "outputs": [],
   "source": [
    "# Initialize CCS-AMP Graph\n",
    "Graph = CCSGraph()\n",
    "\n",
    "\n",
    "# Run CCS-AMP maxSims times\n",
    "for sims in range(maxSims):\n",
    "    \n",
    "    # Reset the graph\n",
    "    Graph.reset()\n",
    "    \n",
    "    # Set up Inner Encoder/Decoder\n",
    "    InnerCode = ccsic.DenseInnerCode(L, ml, N, P, std, Ka)\n",
    "    \n",
    "    # Generate random messages for Ka active users\n",
    "    txBits = np.random.randint(low=2, size=(Ka, w))\n",
    "    \n",
    "    # Outer LDPC Encoder\n",
    "    x = Graph.encodesignal(txBits)\n",
    "    \n",
    "    # Inner CS Encoder\n",
    "    x = InnerCode.Encode(Phat, x)\n",
    "    \n",
    "    # Transmit x over channel\n",
    "    y = (x + (np.random.randn(N, 1) * σ_n)).reshape(-1, 1)\n",
    "\n",
    "    # Inner CS Decoder\n",
    "    xHt, _ = InnerCode.Decode(y, numAmpIter, BPonOuterGraph, graph)\n",
    "    \n",
    "    # Outer LDPC Decoder (Message Disambiguation)\n",
    "    txBitsHt = FG.decoder(Graph, xHt, listSize)\n",
    "    \n",
    "    # Calculate PUPE\n",
    "    errorRate += (Ka - FG.numbermatches(txBits, txBitsHt)) / (Ka * maxSims)\n",
    "\n",
    "# Display Simulation Results\n",
    "print(\"Per user probability of error = %3.6f\" % errorRate)"
   ]
  }
 ],
 "metadata": {
  "kernelspec": {
   "display_name": "Python 3",
   "language": "python",
   "name": "python3"
  },
  "language_info": {
   "codemirror_mode": {
    "name": "ipython",
    "version": 3
   },
   "file_extension": ".py",
   "mimetype": "text/x-python",
   "name": "python",
   "nbconvert_exporter": "python",
   "pygments_lexer": "ipython3",
   "version": "3.8.5"
  }
 },
 "nbformat": 4,
 "nbformat_minor": 4
}